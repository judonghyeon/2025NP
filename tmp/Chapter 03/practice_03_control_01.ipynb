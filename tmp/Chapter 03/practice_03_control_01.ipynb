{
 "cells": [
  {
   "cell_type": "code",
   "execution_count": null,
   "id": "eb0ec540",
   "metadata": {},
   "outputs": [],
   "source": [
    "year = int(input(\"type a year: \"))\n",
    "if (year % 4 == 0 and year % 100 != 0) or (year % 400 == 0):\n",
    "    print(f\"{year} is a leap year\")\n",
    "else:\n",
    "    print(f\"{year} is not a leap year\") "
   ]
  },
  {
   "cell_type": "code",
   "execution_count": null,
   "id": "c2b4ca54",
   "metadata": {},
   "outputs": [
    {
     "name": "stdout",
     "output_type": "stream",
     "text": [
      "더 큽니다. 4 번 남았습니다.\n",
      "\n",
      "더 큽니다. 3 번 남았습니다.\n",
      "\n",
      "더 큽니다. 2 번 남았습니다.\n",
      "\n",
      "더 큽니다. 1 번 남았습니다.\n",
      "\n",
      "더 작습니다. 0 번 남았습니다.\n",
      "\n",
      "기회를 모두 사용하셨습니다. 정답은 73 였습니다.\n"
     ]
    }
   ],
   "source": [
    "from random import randint\n",
    "seceret_number = randint(1, 100)\n",
    "num_guesses = 0\n",
    "guess = 0\n",
    "while (guess != seceret_number) and (num_guesses <= 4):\n",
    "    guess = eval(input('Enter a number between (1-100): '))  # int로 변환\n",
    "    num_guesses += 1\n",
    "    if guess < seceret_number:\n",
    "        print('더 큽니다.', 5-num_guesses, '번 남았습니다.\\n')\n",
    "    elif guess > seceret_number:\n",
    "        print('더 작습니다.', 5-num_guesses, '번 남았습니다.\\n')\n",
    "    else:\n",
    "        print('정답입니다!')\n",
    "        break\n",
    "\n",
    "if num_guesses == 5:\n",
    "    print('기회를 모두 사용하셨습니다. 정답은', seceret_number, '였습니다.')"
   ]
  },
  {
   "cell_type": "markdown",
   "id": "ea1db082",
   "metadata": {},
   "source": [
    "## 숫자 맞추기 게임 코드 분석 및 제어문/반복문 정리\n",
    "\n",
    "### 코드 설명\n",
    "\n",
    "```python\n",
    "from random import randint\n",
    "seceret_number = randint(1, 100)\n",
    "num_guesses = 0\n",
    "guess = 0\n",
    "while guess != seceret_number and num_guesses <= 4:\n",
    "    guess = int(input('Enter a number between 1 and 100: '))\n",
    "    num_guesses += 1\n",
    "    if guess < seceret_number:\n",
    "        print('더 큽니다.', 5-num_guesses, '번 남았습니다.\\n')\n",
    "    elif guess > seceret_number:\n",
    "        print('더 작습니다.', 5-num_guesses, '번 남았습니다.\\n')\n",
    "    else:\n",
    "        print('정답입니다!')\n",
    "        break\n",
    "\n",
    "if num_guesses == 5:\n",
    "    print('기회를 모두 사용하셨습니다. 정답은', seceret_number, '였습니다.')\n",
    "```\n",
    "\n",
    "---\n",
    "\n",
    "### 제어문(Control Statement) 정리\n",
    "\n",
    "- **if, elif, else**  \n",
    "  조건에 따라 프로그램의 흐름을 분기하는 제어문입니다.  \n",
    "  - `if guess < seceret_number:`  \n",
    "  - `elif guess > seceret_number:`  \n",
    "  - `else:`  \n",
    "  사용자의 입력값과 정답을 비교하여 각각 다른 메시지를 출력합니다.\n",
    "\n",
    "- **break**  \n",
    "  반복문을 즉시 종료시키는 제어문입니다.  \n",
    "  - 정답을 맞추면 `break`로 while문을 빠져나옵니다.\n",
    "\n",
    "---\n",
    "\n",
    "### 반복문(Loop Statement) 정리\n",
    "\n",
    "- **while 반복문**  \n",
    "  조건이 참인 동안 반복해서 코드를 실행합니다.  \n",
    "  - `while guess != seceret_number and num_guesses <= 4:`  \n",
    "    사용자가 정답을 맞추거나 5번의 기회를 모두 사용할 때까지 반복합니다.\n",
    "\n",
    "- **반복문 내 변수 증가**  \n",
    "  - `num_guesses += 1`  \n",
    "    사용자가 입력할 때마다 시도 횟수를 1씩 증가시킵니다.\n",
    "\n",
    "---\n",
    "\n",
    "### 핵심 요약\n",
    "\n",
    "- **if/elif/else**로 조건 분기  \n",
    "- **while**로 반복 제어  \n",
    "- **break**로 반복문 강제 종료  \n",
    "- 반복문과 제어문을 조합해 게임의 흐름을 제어함"
   ]
  }
 ],
 "metadata": {
  "kernelspec": {
   "display_name": "base",
   "language": "python",
   "name": "python3"
  },
  "language_info": {
   "codemirror_mode": {
    "name": "ipython",
    "version": 3
   },
   "file_extension": ".py",
   "mimetype": "text/x-python",
   "name": "python",
   "nbconvert_exporter": "python",
   "pygments_lexer": "ipython3",
   "version": "3.11.8"
  }
 },
 "nbformat": 4,
 "nbformat_minor": 5
}
