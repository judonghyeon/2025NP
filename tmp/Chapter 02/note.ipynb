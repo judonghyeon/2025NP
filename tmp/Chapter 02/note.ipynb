{
 "cells": [
  {
   "cell_type": "markdown",
   "id": "897e10e1",
   "metadata": {},
   "source": [
    "## 이 파일은 2장 학습하면서 실핸한 내용을 정리한 것이다.\n",
    "### 날짜 2025. 09 09\n",
    "### 작성자: 주동현"
   ]
  },
  {
   "cell_type": "code",
   "execution_count": 7,
   "id": "272e953e",
   "metadata": {},
   "outputs": [
    {
     "name": "stdout",
     "output_type": "stream",
     "text": [
      "안녕하세요\n"
     ]
    }
   ],
   "source": [
    "print(\"안녕하세요\")"
   ]
  }
 ],
 "metadata": {
  "kernelspec": {
   "display_name": "base",
   "language": "python",
   "name": "python3"
  },
  "language_info": {
   "codemirror_mode": {
    "name": "ipython",
    "version": 3
   },
   "file_extension": ".py",
   "mimetype": "text/x-python",
   "name": "python",
   "nbconvert_exporter": "python",
   "pygments_lexer": "ipython3",
   "version": "3.11.8"
  }
 },
 "nbformat": 4,
 "nbformat_minor": 5
}
