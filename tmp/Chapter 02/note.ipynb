{
 "cells": [
  {
   "cell_type": "markdown",
   "id": "897e10e1",
   "metadata": {},
   "source": [
    "## 이 파일은 2장 학습하면서 실핸한 내용을 정리한 것이다.\n",
    "### 날짜 2025. 09 09\n",
    "### 작성자: 주동현\n",
    "#### 실습 내용1: 기본 입출력\n",
    "#### 실습 내용2: 기본 자료형\n",
    "#### 실습 내용3: 연산자\n",
    "#### 실습 내용4: 자료구조"
   ]
  },
  {
   "cell_type": "code",
   "execution_count": 8,
   "id": "272e953e",
   "metadata": {},
   "outputs": [
    {
     "name": "stdout",
     "output_type": "stream",
     "text": [
      "안녕하세요\n"
     ]
    }
   ],
   "source": [
    "print(\"안녕하세요\")"
   ]
  },
  {
   "cell_type": "code",
   "execution_count": 12,
   "id": "6d86e651",
   "metadata": {},
   "outputs": [
    {
     "name": "stdout",
     "output_type": "stream",
     "text": [
      "x = 3\n"
     ]
    }
   ],
   "source": [
    "x=3\n",
    "print(\"x =\", x)"
   ]
  },
  {
   "cell_type": "markdown",
   "id": "fe62e533",
   "metadata": {},
   "source": [
    ">>> x=3\n",
    ">>> x\n",
    "3\n",
    ">>>"
   ]
  },
  {
   "cell_type": "code",
   "execution_count": null,
   "id": "93e63442",
   "metadata": {},
   "outputs": [
    {
     "data": {
      "text/plain": [
       "3"
      ]
     },
     "execution_count": 13,
     "metadata": {},
     "output_type": "execute_result"
    }
   ],
   "source": [
    "x=3\n",
    "x"
   ]
  },
  {
   "cell_type": "code",
   "execution_count": 14,
   "id": "83a8c9b6",
   "metadata": {},
   "outputs": [
    {
     "name": "stdout",
     "output_type": "stream",
     "text": [
      "30\n",
      "서원대학교\n",
      "abcabcabc\n",
      "25 32\n",
      "25 + 32 = 57\n"
     ]
    }
   ],
   "source": [
    "print(10+20)\n",
    "\n",
    "print(\"서원대학교\")\n",
    "\n",
    "print(\"abc\" * 3)\n",
    "\n",
    "x=25\n",
    "y=32\n",
    "z=x+y\n",
    "print(x,y)\n",
    "print(x,'+', y, '=', z)\n"
   ]
  },
  {
   "cell_type": "code",
   "execution_count": 15,
   "id": "389397db",
   "metadata": {},
   "outputs": [
    {
     "name": "stdout",
     "output_type": "stream",
     "text": [
      "30\n",
      "1020\n",
      "abcabcabc\n",
      "n=10\n",
      "m=5.2, n=10\n"
     ]
    }
   ],
   "source": [
    "print(10+20)\n",
    "print(\"10\"+\"20\")\n",
    "print(\"abc\"*3)\n",
    "n=10\n",
    "print(\"n=%d\" %n)\n",
    "m=5.2\n",
    "print(\"m=%.1f, n=%d\" %(m,n))\n"
   ]
  },
  {
   "cell_type": "code",
   "execution_count": 19,
   "id": "c9975160",
   "metadata": {},
   "outputs": [
    {
     "name": "stdout",
     "output_type": "stream",
     "text": [
      "3\n",
      "3\n",
      "3.0\n",
      "3\n"
     ]
    }
   ],
   "source": [
    "n=input('type a numder')\n",
    "print(n)\n",
    "print(int(n))\n",
    "\n",
    "print(float(n))\n",
    "\n",
    "n=str(3)\n",
    "print(n)"
   ]
  },
  {
   "cell_type": "code",
   "execution_count": null,
   "id": "16a1fd39",
   "metadata": {},
   "outputs": [],
   "source": [
    "name = input('Name: ')\n",
    "print(\"Hello,\" + name)"
   ]
  },
  {
   "cell_type": "code",
   "execution_count": null,
   "id": "fea4d6ab",
   "metadata": {},
   "outputs": [],
   "source": [
    "a=int(input('Number 1: '))\n",
    "b=int(input('Number 2: '))\n",
    "print(a*b)\n"
   ]
  },
  {
   "cell_type": "code",
   "execution_count": null,
   "id": "e81ca6fb",
   "metadata": {},
   "outputs": [],
   "source": [
    "C = float(input(\"Type 섭씨온도: \"))\n",
    "F = C*9/5+32\n",
    "print(\"화씨혼도는\", F)"
   ]
  },
  {
   "cell_type": "code",
   "execution_count": null,
   "id": "eb0fbed2",
   "metadata": {},
   "outputs": [
    {
     "name": "stdout",
     "output_type": "stream",
     "text": [
      "6\n",
      "8.045 마일\n",
      "반지름이 5 인 원의 넓이: 78.5398\n",
      "반지름이 5 인 원의 둘레: 31.41592\n"
     ]
    }
   ],
   "source": [
    "# 연습문제 1\n",
    "def mul(a,b):\n",
    "    c = a*b\n",
    "    return c\n",
    "a=int(input())\n",
    "b=int(input())\n",
    "print(mul(a,b))\n",
    "\n",
    "def mileCal(a):\n",
    "    mile = a * 1.609\n",
    "    return mile\n",
    "\n",
    "c = int(input())\n",
    "print(mileCal(c), \"마일\")\n",
    "\n",
    "PI = 3.141592\n",
    "def CircleExtent(radius):\n",
    "    CircleEx = PI * radius * radius\n",
    "    return CircleEx\n",
    "\n",
    "def CircleArea(radius):\n",
    "    CircleAr = 2 * PI * radius\n",
    "    return CircleAr\n",
    "d = int(input(\"반지름을 입력하세요: \"))\n",
    "\n",
    "print(\"반지름이\", d, \"인 원의 넓이:\", CircleExtent(d))\n",
    "print(\"반지름이\", d, \"인 원의 둘레:\", CircleArea(d))\n",
    "\n",
    "# 기본 입출력"
   ]
  },
  {
   "cell_type": "code",
   "execution_count": 22,
   "id": "9944d6b9",
   "metadata": {},
   "outputs": [
    {
     "name": "stdout",
     "output_type": "stream",
     "text": [
      "False\n",
      "True\n"
     ]
    }
   ],
   "source": [
    "aVar = True\n",
    "bVar = True\n",
    "type(aVar)\n",
    "a=1\n",
    "b=2\n",
    "c = a>b\n",
    "print(c)\n",
    "d = a<b\n",
    "print(d)"
   ]
  },
  {
   "cell_type": "code",
   "execution_count": null,
   "id": "dd6d3abe",
   "metadata": {},
   "outputs": [
    {
     "name": "stdout",
     "output_type": "stream",
     "text": [
      "1 23 3493\n",
      "21 50\n",
      "1 23 3493\n",
      "1 23 3493\n"
     ]
    }
   ],
   "source": [
    "intVar = 5\n",
    "type(intVar)\n",
    "print(1,23,3493)\n",
    "print(0b010101, 0b110010)\n",
    "print(0o1, 0o27, 0o6645)\n",
    "print(0x1, 0x17, 0xDA5)"
   ]
  },
  {
   "cell_type": "code",
   "execution_count": 25,
   "id": "dfa9cf86",
   "metadata": {},
   "outputs": [
    {
     "name": "stdout",
     "output_type": "stream",
     "text": [
      "0.0 0.0 0.0 1.0 1.0 1.0 100.0\n",
      "100000.0000001 65535 4095 170\n",
      "0.001027\n"
     ]
    }
   ],
   "source": [
    "fVar = 1.0\n",
    "type(fVar)\n",
    "\n",
    "print(0., 0.0, .0, 1., 1e0, 1.e0, 1.0e2)\n",
    "\n",
    "print(100_000.000_0001, 0x_FF_FF, 0o7_777, 0b_1010_1010)\n",
    "print(0.00_10_27)"
   ]
  },
  {
   "cell_type": "code",
   "execution_count": null,
   "id": "50abae6a",
   "metadata": {},
   "outputs": [
    {
     "name": "stdout",
     "output_type": "stream",
     "text": [
      "This is a literal string\n",
      "This is a another string\n",
      "i'm a Python fantatic\n",
      "i\"m a Python fantatic\n",
      "A not very long string that spans two lines\n"
     ]
    }
   ],
   "source": [
    "strVar = \"test\"\n",
    "type(strVar)\n",
    "print('This is a literal string')\n",
    "print('This is a another string')\n",
    "print(\"i'm a Python fantatic\")\n",
    "print('i\"m a Python fantatic')\n",
    "print('A not very long string \\\n",
    "that spans two lines')\n",
    "\n",
    "# 기본 자료형   "
   ]
  },
  {
   "cell_type": "code",
   "execution_count": 28,
   "id": "0dae10fa",
   "metadata": {},
   "outputs": [
    {
     "name": "stdout",
     "output_type": "stream",
     "text": [
      "5\n",
      "1\n",
      "3\n",
      "3.3333333333333335\n",
      "True\n",
      "False\n",
      "False\n",
      "True\n"
     ]
    }
   ],
   "source": [
    "# 기본 연산자\n",
    "# --- IGNORE ---\n",
    "i=3\n",
    "i=i+2\n",
    "print(i)\n",
    "\n",
    "a=10\n",
    "b=3\n",
    "c=a%b\n",
    "print(c)\n",
    "d=a//b\n",
    "print(d)\n",
    "e=a/b\n",
    "print(e)\n",
    "\n",
    "score = 95\n",
    "print(score>=90)\n",
    "print(score<80)\n",
    "print(score==90)\n",
    "print(score!=80)\n"
   ]
  },
  {
   "cell_type": "code",
   "execution_count": 31,
   "id": "5b4c76e6",
   "metadata": {},
   "outputs": [
    {
     "name": "stdout",
     "output_type": "stream",
     "text": [
      "8\n",
      "4\n",
      "2.0\n",
      "(2, 2)\n",
      "32\n",
      "True\n",
      "Hello World\n",
      "True\n",
      "True\n",
      "True\n"
     ]
    }
   ],
   "source": [
    "# 산술 및 관계연산자 연습문제\n",
    "\n",
    "def add(a,b):\n",
    "    c = a+b\n",
    "    return c\n",
    "print(add(5,3))\n",
    "\n",
    "def minus(a,b):\n",
    "    c = a-b\n",
    "    return c    \n",
    "print(minus(7,3))\n",
    "\n",
    "def sub(a,b):\n",
    "    c = a/b\n",
    "    return c\n",
    "print(sub(4,2))\n",
    "\n",
    "def div(a,b):\n",
    "    c = a//b\n",
    "    q = a%b\n",
    "    return c, q  \n",
    "print(div(8,3))\n",
    "\n",
    "def tower(a):\n",
    "    c = a**5\n",
    "    return c\n",
    "print(tower(2))\n",
    "\n",
    "def compare(a):\n",
    "    if a>10 and a<20:\n",
    "        return True\n",
    "    else:\n",
    "        return False\n",
    "print(compare(15))\n",
    "\n",
    "\n",
    "def string_add():\n",
    "    a = \"Hello\"\n",
    "    b = \"World\"\n",
    "    c = a + \" \" + b\n",
    "    return c\n",
    "print(string_add())\n",
    "\n",
    "def sub_check():\n",
    "    if 7/2 > 3:\n",
    "        return True\n",
    "    else:   \n",
    "        return False\n",
    "print(sub_check())\n",
    "\n",
    "def same_check(a):\n",
    "    if a==5:\n",
    "        return True\n",
    "    else:\n",
    "        return False\n",
    "def between_check(a):\n",
    "    if a>10 and a<20:\n",
    "        return True\n",
    "    else:\n",
    "        return False      \n",
    "print(same_check(5))\n",
    "print(between_check(15))  "
   ]
  },
  {
   "cell_type": "code",
   "execution_count": 32,
   "id": "50473e82",
   "metadata": {},
   "outputs": [
    {
     "name": "stdout",
     "output_type": "stream",
     "text": [
      "True\n",
      "False\n",
      "False\n"
     ]
    }
   ],
   "source": [
    "exam = 85\n",
    "report = 85\n",
    "print(exam>=80 and report>=80)\n",
    "\n",
    "print(exam>=90 or report>=90)\n",
    "\n",
    "print(not(exam < 90))"
   ]
  },
  {
   "cell_type": "code",
   "execution_count": 33,
   "id": "a30485f5",
   "metadata": {},
   "outputs": [
    {
     "name": "stdout",
     "output_type": "stream",
     "text": [
      "True\n",
      "False\n",
      "True\n",
      "True\n",
      "True\n",
      "False\n"
     ]
    }
   ],
   "source": [
    "# 논리 연산자 연습문제\n",
    "\n",
    "def check_between(a):\n",
    "    if a>3 and a<7:\n",
    "        return True\n",
    "    else:\n",
    "        return False\n",
    "print(check_between(5))\n",
    "\n",
    "def check_over_down(x):\n",
    "    if x>=10 and x<=20:\n",
    "        return True\n",
    "    else:\n",
    "        return False    \n",
    "print(check_over_down(7))\n",
    "\n",
    "def check_five_seven(z):\n",
    "    if z%5 == 0 or z%7==0:\n",
    "        return True\n",
    "    else:\n",
    "        return False\n",
    "print(check_five_seven(14))\n",
    "\n",
    "def plus_odd(z):\n",
    "    if z > 0 and z%2==0:\n",
    "        return True\n",
    "    else:\n",
    "        return False\n",
    "print(plus_odd(4))\n",
    "\n",
    "def check_isString_hello_or_world(a):\n",
    "    if a == \"hello\" or a == \"world\":\n",
    "        return True\n",
    "    else:\n",
    "        return False\n",
    "print(check_isString_hello_or_world(\"hello\"))\n",
    "print(check_isString_hello_or_world(\"python\"))"
   ]
  },
  {
   "cell_type": "code",
   "execution_count": 34,
   "id": "35e8f94a",
   "metadata": {},
   "outputs": [
    {
     "name": "stdout",
     "output_type": "stream",
     "text": [
      "True\n",
      "False\n",
      "140711271977800\n",
      "140711271977800\n",
      "True\n",
      "True\n",
      "False\n"
     ]
    }
   ],
   "source": [
    "print('py' in 'pyehon')\n",
    "\n",
    "print('ty' in 'python')\n",
    "\n",
    "a=2\n",
    "b=2\n",
    "print(id(a))\n",
    "print(id(b))\n",
    "print(id(a) == id(b))\n",
    "\n",
    "print(a is b)\n",
    "print(a is not b)"
   ]
  },
  {
   "cell_type": "code",
   "execution_count": null,
   "id": "0326e9c3",
   "metadata": {},
   "outputs": [
    {
     "name": "stdout",
     "output_type": "stream",
     "text": [
      "False\n",
      "False\n",
      "False\n",
      "True\n"
     ]
    }
   ],
   "source": [
    "# 멤버 연산자 연습문제\n",
    "e = [1,2,3,4,5]\n",
    "def seven_in_list(a):\n",
    "    if 7 in a:\n",
    "        return True\n",
    "    else:\n",
    "        return False\n",
    "\n",
    "set = {\"orange\", \"banana\", \"kiwi\"}\n",
    "def apple_in_set(a):\n",
    "    if \"apple\" in a:\n",
    "        return True\n",
    "    else:\n",
    "        return False\n",
    "    \n",
    "def is_number_in_dic():\n",
    "    set = {\"a\" :1 , \"b\":2, \"c\":3}\n",
    "    if 6 in set.values():\n",
    "        return True\n",
    "    else:\n",
    "        return False\n",
    "    \n",
    "def is_in_tuple(b):\n",
    "    tuple = (\"dog\", \"cat\", \"bird\", \"hamster\")\n",
    "    if b in tuple:\n",
    "        return True\n",
    "    else:\n",
    "        return False\n",
    "    \n",
    "def is_in_set(a):\n",
    "    set = {2,4,6,8,10}\n",
    "    if a in set:\n",
    "        return True\n",
    "    else:\n",
    "        return False\n",
    "\n",
    "\n",
    "print(seven_in_list(e))\n",
    "print(apple_in_set(set))\n",
    "print(is_number_in_dic())\n",
    "print(is_in_tuple(\"cat\"))\n",
    "print(is_in_set(10))"
   ]
  },
  {
   "cell_type": "code",
   "execution_count": null,
   "id": "6c49f22e",
   "metadata": {},
   "outputs": [
    {
     "ename": "SyntaxError",
     "evalue": "invalid syntax (3191068577.py, line 2)",
     "output_type": "error",
     "traceback": [
      "\u001b[1;36m  Cell \u001b[1;32mIn[37], line 2\u001b[1;36m\u001b[0m\n\u001b[1;33m    message = \"Happy\" + age + \"rd Birthday\"!\u001b[0m\n\u001b[1;37m                                           ^\u001b[0m\n\u001b[1;31mSyntaxError\u001b[0m\u001b[1;31m:\u001b[0m invalid syntax\n"
     ]
    }
   ],
   "source": [
    "#age = 23\n",
    "#message = \"Happy\" + age + \"rd Birthday\"!\n",
    "#print(message)\n",
    "\n"
   ]
  },
  {
   "cell_type": "code",
   "execution_count": 38,
   "id": "bb6d46c6",
   "metadata": {},
   "outputs": [
    {
     "name": "stdout",
     "output_type": "stream",
     "text": [
      "(25, 57) 분 초\n",
      "(617, 0, 4) 일 시간 분\n",
      "6381407.812500002\n",
      "5050.0\n",
      "총 무게: 100959709.0 g\n"
     ]
    }
   ],
   "source": [
    "# 연습문제 2\n",
    "\n",
    "def second_to_mins_sec(a):\n",
    "    mins = a // 60\n",
    "    sec = a % 60\n",
    "    return mins, sec\n",
    "a = int(input())\n",
    "print(second_to_mins_sec(a), \"분\", \"초\")\n",
    "\n",
    "def min_to_day_hour_mins(a):\n",
    "    days = a // 1440\n",
    "    hours = (a % 1440) // 60\n",
    "    mins = a % 60\n",
    "    return days, hours, mins\n",
    "a = int(input())\n",
    "print(min_to_day_hour_mins(a), \"일\", \"시간\", \"분\")\n",
    "\n",
    "\n",
    "def compound_interest(principal, rate, years):\n",
    "    total = principal * (1 + rate) ** years\n",
    "    return total\n",
    "\n",
    "print(compound_interest(5000000, 0.05, 5))\n",
    "\n",
    "def sum_between(b):\n",
    "    sum = b*(b+1)/2\n",
    "    return sum\n",
    "print(sum_between(100))\n",
    "\n",
    "def total_fruit_weight(grape_count, strawberry_count):\n",
    "    grape_weight = 75         \n",
    "    strawberry_weight = 113.5 \n",
    "    total = grape_count * grape_weight + strawberry_count * strawberry_weight\n",
    "    return total\n",
    "\n",
    "g = int(input(\"포도 개수 입력: \"))\n",
    "s = int(input(\"딸기 개수 입력: \"))\n",
    "print(\"총 무게:\", total_fruit_weight(g, s), \"g\")\n"
   ]
  },
  {
   "cell_type": "code",
   "execution_count": null,
   "id": "77e04766",
   "metadata": {},
   "outputs": [
    {
     "name": "stdout",
     "output_type": "stream",
     "text": [
      "P\n",
      "n\n",
      "n\n",
      "P\n",
      "Py\n",
      "tho\n",
      "Py\n",
      "on\n",
      "on\n",
      "Py\n",
      "thon\n",
      "Python\n",
      "on\n",
      "\n",
      "Jython\n",
      "6\n",
      "뒤집어진 문자열: wda1333\n",
      "True\n",
      "False\n"
     ]
    },
    {
     "data": {
      "text/plain": [
       "False"
      ]
     },
     "execution_count": 46,
     "metadata": {},
     "output_type": "execute_result"
    }
   ],
   "source": [
    "# 자료구조\n",
    "\n",
    "'''\n",
    "Hello \n",
    "Python\n",
    "'''\n",
    "\n",
    "\"\"\"\n",
    "Hello\n",
    "Python\n",
    "\"\"\"\n",
    "\n",
    "word = 'Python'\n",
    "print(word[0]) \n",
    "print(word[5])\n",
    "\n",
    "word = 'Python'\n",
    "print(word[-1])\n",
    "print(word[-6])\n",
    "\n",
    "print(word[0:2])\n",
    "print(word[2:5])\n",
    "print(word[:2])\n",
    "print(word[4:])\n",
    "print(word[-2:])\n",
    "\n",
    "print(word[:2])\n",
    "print(word[2:])\n",
    "print(word[:2] + word[2:])\n",
    "\n",
    "#print(word[42])\n",
    "# 에러남\n",
    "\n",
    "print(word[4:42])\n",
    "# 에러 안남\n",
    "print(word[42:])\n",
    "# 범위를 벗어남\n",
    "\n",
    "#print(word[0] ='J')\n",
    "# 수정불가\n",
    "\n",
    "word2 = 'J' + word[1:]\n",
    "print(word2)\n",
    "\n",
    "s = 'smiles'\n",
    "print(len(s))\n",
    "\n",
    "## 변수 초기화 부분 ##\n",
    "outStr = ''\n",
    "count, i = 0,0\n",
    "\n",
    "## 메인 코드 부분 ##\n",
    "inStr = input('문자열 입력: ')\n",
    "count = len(inStr)\n",
    "\n",
    "for i in range(count):\n",
    "    outStr += inStr[count-(i+1)]\n",
    "print('뒤집어진 문자열:', outStr)\n",
    "\n",
    "\n",
    "print('a' in 'cat')\n",
    "print('a' not in 'can')\n",
    "\n",
    "'123'.isdigit()\n",
    "'abcABC'.isalpha()\n",
    "'Ab133'.isalnum()\n",
    "'ab'.islower()\n",
    "'AB'.isupper()\n",
    "print(' '.isspace())"
   ]
  }
 ],
 "metadata": {
  "kernelspec": {
   "display_name": "base",
   "language": "python",
   "name": "python3"
  },
  "language_info": {
   "codemirror_mode": {
    "name": "ipython",
    "version": 3
   },
   "file_extension": ".py",
   "mimetype": "text/x-python",
   "name": "python",
   "nbconvert_exporter": "python",
   "pygments_lexer": "ipython3",
   "version": "3.11.8"
  }
 },
 "nbformat": 4,
 "nbformat_minor": 5
}
