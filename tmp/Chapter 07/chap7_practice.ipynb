{
 "cells": [
  {
   "cell_type": "markdown",
   "id": "2a0c7477",
   "metadata": {},
   "source": [
    "pip install 모듈이름\n",
    "pip install 모듈이름 --upgrade  # 최신 버전으로 업그레이드"
   ]
  },
  {
   "cell_type": "code",
   "execution_count": 4,
   "id": "057f1624",
   "metadata": {},
   "outputs": [
    {
     "name": "stdout",
     "output_type": "stream",
     "text": [
      "DESKTOP-NCD77BV\n",
      "4.0\n",
      "9\n"
     ]
    }
   ],
   "source": [
    "import socket\n",
    "print(socket.gethostname())\n",
    "\n",
    "from math import pi, sqrt\n",
    "print(sqrt(16))\n",
    "\n",
    "import random as rd\n",
    "print(rd.randint(1, 10))\n"
   ]
  },
  {
   "cell_type": "code",
   "execution_count": null,
   "id": "936255e7",
   "metadata": {},
   "outputs": [
    {
     "name": "stdout",
     "output_type": "stream",
     "text": [
      "15\n",
      "8\n"
     ]
    }
   ],
   "source": [
    "import socket\n",
    "print(socket.gethostname())\n",
    "\n",
    "from math import pi, sqrt\n",
    "print(sqrt(16))\n",
    "\n",
    "import random as rd\n",
    "print(rd.randint(1, 10))\n"
   ]
  },
  {
   "cell_type": "markdown",
   "id": "50edcb1d",
   "metadata": {},
   "source": [
    "# 📦 Chapter 07 모듈 정리\n",
    "\n",
    "---\n",
    "\n",
    "## 1. 모듈이란?\n",
    "\n",
    "- 함수, 변수, 클래스들을 모아놓은 **`.py` 파일 형태의 코드 묶음**\n",
    "- 코드 **재사용성**과 **유지보수성**을 높여줌\n",
    "- 종류:\n",
    "  - **표준 모듈**: Python에 기본 포함 (`math`, `sys`, `time` 등)\n",
    "  - **서드파티 모듈**: 외부 개발자가 만든 모듈 (`numpy`, `pandas`, `requests` 등)\n",
    "  - **사용자 정의 모듈**: 직접 만든 모듈\n",
    "\n",
    "---\n",
    "\n",
    "## 2. 모듈 설치 및 불러오기\n",
    "\n",
    "### ✅ 설치 방법 (서드파티 모듈)\n",
    "```bash\n",
    "pip install 모듈이름\n",
    "pip install 모듈이름 --upgrade  # 최신 버전으로 업그레이드\n",
    "```\n",
    "\n",
    "### ✅ 모듈 불러오기 예제\n",
    "```python\n",
    "import socket\n",
    "print(socket.gethostname())\n",
    "\n",
    "from math import pi, sqrt\n",
    "print(sqrt(16))\n",
    "\n",
    "import random as rd\n",
    "print(rd.randint(1, 10))\n",
    "```\n",
    "\n",
    "---\n",
    "\n",
    "## 3. 사용자 정의 모듈 예제\n",
    "```python\n",
    "def sum_numbers(n):\n",
    "    return sum(range(1, n+1))\n",
    "\n",
    "def power(x, n):\n",
    "    result = 1\n",
    "    for _ in range(n):\n",
    "        result *= x\n",
    "    return result\n",
    "\n",
    "if __name__ == '__main__':\n",
    "    print(sum_numbers(5))\n",
    "    print(power(2, 3))\n",
    "```\n",
    "\n",
    "---\n",
    "\n",
    "## 4. 다양한 모듈 활용\n",
    "```python\n",
    "import sys\n",
    "print(sys.version)\n",
    "\n",
    "import random\n",
    "print(random.choice('hello'))\n",
    "\n",
    "import math\n",
    "print(math.pi)\n",
    "```\n",
    "\n",
    "---\n",
    "\n",
    "## 5. 모듈과 패키지 비교\n",
    "\n",
    "| 구분   | 모듈 (.py 파일) | 패키지 (디렉토리) |\n",
    "|--------|----------------|-------------------|\n",
    "| 구성   | 하나의 .py 파일 | 여러 모듈 포함 디렉토리 |\n",
    "| 초기화 | 필요 없음       | `__init__.py` 필요 |\n",
    "| 예시   | math, os        | mypackage         |\n",
    "\n",
    "---\n",
    "\n",
    "## 6. 가상환경 (venv)\n",
    "\n",
    "### ✅ venv 사용\n",
    "```bash\n",
    "python -m venv myenv\n",
    "source myenv/bin/activate  # macOS/Linux\n",
    ".\\myenv\\Scripts\\ctivate   # Windows\n",
    "deactivate\n",
    "```\n",
    "\n",
    "### ✅ conda 사용\n",
    "```bash\n",
    "conda create -n myenv python=3.9\n",
    "conda activate myenv\n",
    "conda deactivate\n",
    "conda env list\n",
    "conda env remove -n myenv\n",
    "```\n",
    "\n",
    "### ✅ virtualenv 사용\n",
    "```bash\n",
    "pip install virtualenv\n",
    "virtualenv myenv\n",
    "virtualenv -p python3.9 myenv\n",
    "```\n",
    "\n",
    "---\n",
    "\n",
    "## 7. 패키지 관리 (requirements.txt)\n",
    "```bash\n",
    "pip freeze > requirements.txt\n",
    "pip install -r requirements.txt\n",
    "```\n"
   ]
  }
 ],
 "metadata": {
  "kernelspec": {
   "display_name": "base",
   "language": "python",
   "name": "python3"
  },
  "language_info": {
   "codemirror_mode": {
    "name": "ipython",
    "version": 3
   },
   "file_extension": ".py",
   "mimetype": "text/x-python",
   "name": "python",
   "nbconvert_exporter": "python",
   "pygments_lexer": "ipython3",
   "version": "3.11.8"
  }
 },
 "nbformat": 4,
 "nbformat_minor": 5
}
