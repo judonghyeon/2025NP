{
 "cells": [
  {
   "cell_type": "code",
   "execution_count": 9,
   "id": "6ee573fd",
   "metadata": {},
   "outputs": [],
   "source": [
    "#print(1/0)   # ZeroDivisionError\n",
    "#a=[0,1,2]\n",
    "#print(a[3])  # IndexError\n",
    "#fp=open(\"nofile.txt\")  # FileNotFoundError\n"
   ]
  },
  {
   "cell_type": "code",
   "execution_count": null,
   "id": "e3324e7b",
   "metadata": {},
   "outputs": [],
   "source": [
    "b=0\n",
    "try:\n",
    "    a = 1 / b\n",
    "except ZeroDivisionError:\n",
    "    print(\"0으로 나눌 수 없습니다\")\n",
    "else:\n",
    "    print(a)\n"
   ]
  },
  {
   "cell_type": "code",
   "execution_count": 5,
   "id": "02f262ba",
   "metadata": {},
   "outputs": [
    {
     "name": "stdout",
     "output_type": "stream",
     "text": [
      "입력값: 0\n"
     ]
    }
   ],
   "source": [
    "try:\n",
    "    a = int(input(\"숫자를 입력하세요: \"))\n",
    "except Exception as e:\n",
    "    print(\"예외 발생:\", e)\n",
    "else:\n",
    "    print(\"입력값:\", a)\n"
   ]
  },
  {
   "cell_type": "code",
   "execution_count": 4,
   "id": "72539c7d",
   "metadata": {},
   "outputs": [
    {
     "name": "stdout",
     "output_type": "stream",
     "text": [
      "OS 오류: [Errno 2] No such file or directory: 'sample.txt'\n"
     ]
    }
   ],
   "source": [
    "try:\n",
    "    fp = open('sample.txt')\n",
    "    sl = fp.readline()\n",
    "    value = int(sl.strip())\n",
    "except OSError as err:\n",
    "    print(\"OS 오류:\", err)\n",
    "except ValueError:\n",
    "    print(\"정수로 변환할 수 없습니다\")\n",
    "except:\n",
    "    print(\"알 수 없는 오류 발생\")\n"
   ]
  },
  {
   "cell_type": "code",
   "execution_count": 3,
   "id": "7b6db38e",
   "metadata": {},
   "outputs": [
    {
     "name": "stdout",
     "output_type": "stream",
     "text": [
      "0으로 나눌 수 없습니다\n",
      "예외처리 종료\n"
     ]
    }
   ],
   "source": [
    "x=10\n",
    "y=0\n",
    "try:\n",
    "    result = x / y\n",
    "except ZeroDivisionError:\n",
    "    print(\"0으로 나눌 수 없습니다\")\n",
    "except:\n",
    "    print(\"알 수 없는 오류 발생\")\n",
    "finally:\n",
    "    print(\"예외처리 종료\")\n"
   ]
  },
  {
   "cell_type": "code",
   "execution_count": 2,
   "id": "11744a1d",
   "metadata": {},
   "outputs": [
    {
     "name": "stdout",
     "output_type": "stream",
     "text": [
      "결과: 4\n",
      "프로그램 종료.\n"
     ]
    }
   ],
   "source": [
    "class NegativeNumberError(Exception):\n",
    "    def __init__(self, value):\n",
    "        self.value = value\n",
    "        self.message = f\"음수는 허용되지 않습니다: 입력값({value})\"\n",
    "        super().__init__(self.message)\n",
    "\n",
    "def process_number(n):\n",
    "    if n < 0:\n",
    "        raise NegativeNumberError(n)\n",
    "    return n * 2\n",
    "\n",
    "try:\n",
    "    num = int(input(\"양의 정수를 입력하세요: \"))\n",
    "    print(\"결과:\", process_number(num))\n",
    "except ValueError:\n",
    "    print(\"숫자가 아닌 값을 입력했습니다.\")\n",
    "except NegativeNumberError as e:\n",
    "    print(\"사용자 정의 예외 발생:\", e)\n",
    "finally:\n",
    "    print(\"프로그램 종료.\")\n"
   ]
  },
  {
   "cell_type": "code",
   "execution_count": 1,
   "id": "f78ce595",
   "metadata": {},
   "outputs": [
    {
     "name": "stdout",
     "output_type": "stream",
     "text": [
      "파일을 찾을 수 없습니다: [Errno 2] No such file or directory: 'data.txt'\n"
     ]
    }
   ],
   "source": [
    "try:\n",
    "    with open(\"data.txt\", \"r\", encoding=\"utf-8\") as f:\n",
    "        print(f.read())\n",
    "except FileNotFoundError as e:\n",
    "    print(\"파일을 찾을 수 없습니다:\", e)\n"
   ]
  },
  {
   "cell_type": "markdown",
   "id": "b11062a8",
   "metadata": {},
   "source": [
    "# ⚡ Chapter 08 예외 처리\n",
    "\n",
    "---\n",
    "\n",
    "## 1. 예외(Exception)란?\n",
    "\n",
    "- 프로그램 실행 도중 오류가 발생하면 생성되는 특별한 객체  \n",
    "- 예외가 발생하면 프로그램 실행은 **중단**됨  \n",
    "- 예외처리: 예외 발생 시 프로그램 중단하지 않고 처리하는 방법을 정의  \n",
    "\n",
    "### 주요 예외 종류\n",
    "- **ZeroDivisionError**: 0으로 나눌 때\n",
    "- **IndexError**: 인덱스 범위를 벗어날 때\n",
    "- **FileNotFoundError**: 존재하지 않는 파일 열기 시도\n",
    "- **ValueError**: 잘못된 값 변환 시도\n",
    "- **NameError**: 정의되지 않은 변수 사용\n",
    "- **TypeError**: 자료형 불일치 연산\n",
    "\n",
    "```python\n",
    "print(1/0)   # ZeroDivisionError\n",
    "a=[0,1,2]\n",
    "print(a[3])  # IndexError\n",
    "fp=open(\"nofile.txt\")  # FileNotFoundError\n",
    "```\n",
    "\n",
    "---\n",
    "\n",
    "## 2. 기본 예외 처리 (try-except-else)\n",
    "\n",
    "```python\n",
    "try:\n",
    "    a = 1 / b\n",
    "except ZeroDivisionError:\n",
    "    print(\"0으로 나눌 수 없습니다\")\n",
    "else:\n",
    "    print(a)\n",
    "```\n",
    "\n",
    "- `try`: 실행할 코드\n",
    "- `except`: 예외 발생 시 실행되는 코드\n",
    "- `else`: 예외가 발생하지 않으면 실행\n",
    "\n",
    "---\n",
    "\n",
    "## 3. 모든 예외 처리 (Exception as e)\n",
    "\n",
    "```python\n",
    "try:\n",
    "    a = int(input(\"숫자를 입력하세요: \"))\n",
    "except Exception as e:\n",
    "    print(\"예외 발생:\", e)\n",
    "else:\n",
    "    print(\"입력값:\", a)\n",
    "```\n",
    "\n",
    "---\n",
    "\n",
    "## 4. 복합 예외 처리\n",
    "\n",
    "```python\n",
    "try:\n",
    "    fp = open('sample.txt')\n",
    "    sl = fp.readline()\n",
    "    value = int(sl.strip())\n",
    "except OSError as err:\n",
    "    print(\"OS 오류:\", err)\n",
    "except ValueError:\n",
    "    print(\"정수로 변환할 수 없습니다\")\n",
    "except:\n",
    "    print(\"알 수 없는 오류 발생\")\n",
    "```\n",
    "\n",
    "---\n",
    "\n",
    "## 5. try-except-finally\n",
    "\n",
    "- `finally`: 예외 발생 여부와 상관없이 항상 실행됨\n",
    "\n",
    "```python\n",
    "try:\n",
    "    result = x / y\n",
    "except ZeroDivisionError:\n",
    "    print(\"0으로 나눌 수 없습니다\")\n",
    "except:\n",
    "    print(\"알 수 없는 오류 발생\")\n",
    "finally:\n",
    "    print(\"예외처리 종료\")\n",
    "```\n",
    "\n",
    "---\n",
    "\n",
    "## 6. 사용자 정의 예외\n",
    "\n",
    "```python\n",
    "class NegativeNumberError(Exception):\n",
    "    def __init__(self, value):\n",
    "        self.value = value\n",
    "        self.message = f\"음수는 허용되지 않습니다: 입력값({value})\"\n",
    "        super().__init__(self.message)\n",
    "\n",
    "def process_number(n):\n",
    "    if n < 0:\n",
    "        raise NegativeNumberError(n)\n",
    "    return n * 2\n",
    "\n",
    "try:\n",
    "    num = int(input(\"양의 정수를 입력하세요: \"))\n",
    "    print(\"결과:\", process_number(num))\n",
    "except ValueError:\n",
    "    print(\"숫자가 아닌 값을 입력했습니다.\")\n",
    "except NegativeNumberError as e:\n",
    "    print(\"사용자 정의 예외 발생:\", e)\n",
    "finally:\n",
    "    print(\"프로그램 종료.\")\n",
    "```\n",
    "\n",
    "---\n",
    "\n",
    "## 7. 예외 처리의 활용\n",
    "\n",
    "- 안전한 파일 열기\n",
    "```python\n",
    "try:\n",
    "    with open(\"data.txt\", \"r\", encoding=\"utf-8\") as f:\n",
    "        print(f.read())\n",
    "except FileNotFoundError as e:\n",
    "    print(\"파일을 찾을 수 없습니다:\", e)\n",
    "```\n",
    "\n",
    "---\n",
    "\n",
    "## 8. 정리\n",
    "\n",
    "- 예외는 프로그램 실행 도중 발생하는 오류 상황을 객체로 표현한 것  \n",
    "- `try-except-else-finally` 구조로 다양한 상황을 안전하게 처리  \n",
    "- 필요 시 **사용자 정의 예외 클래스**를 작성 가능  \n"
   ]
  }
 ],
 "metadata": {
  "kernelspec": {
   "display_name": "base",
   "language": "python",
   "name": "python3"
  },
  "language_info": {
   "codemirror_mode": {
    "name": "ipython",
    "version": 3
   },
   "file_extension": ".py",
   "mimetype": "text/x-python",
   "name": "python",
   "nbconvert_exporter": "python",
   "pygments_lexer": "ipython3",
   "version": "3.11.8"
  }
 },
 "nbformat": 4,
 "nbformat_minor": 5
}
